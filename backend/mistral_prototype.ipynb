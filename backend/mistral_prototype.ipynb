{
 "cells": [
  {
   "cell_type": "code",
   "execution_count": 1,
   "id": "92b109b1-bac8-40c9-9a48-f127185e6d70",
   "metadata": {},
   "outputs": [],
   "source": [
    "# Chat with an intelligent assistant in your terminal\n",
    "from openai import OpenAI\n",
    "\n",
    "# Point to the local server\n",
    "client = OpenAI(base_url=\"http://localhost:1234/v1\", api_key=\"not-needed\")"
   ]
  },
  {
   "cell_type": "code",
   "execution_count": 2,
   "id": "46ec754a-b59b-436e-865a-abb9902c3c3f",
   "metadata": {},
   "outputs": [],
   "source": [
    "history = [\n",
    "    {\"role\": \"system\", \"content\": \"You are an intelligent assistant. You always provide well-reasoned answers that are both correct and helpful.\"},\n",
    "    {\"role\": \"user\", \"content\": \"Hello, introduce yourself to someone opening this program for the first time. Be concise.\"},\n",
    "]"
   ]
  },
  {
   "cell_type": "code",
   "execution_count": 3,
   "id": "de958b45-0fa6-4100-b19e-47739839a593",
   "metadata": {},
   "outputs": [],
   "source": [
    "system_prompt = f\"\"\"You are an assistant to a customer experience team. Referring to the list of mobile app reviews you have been provided, summarise each review and identify the sentiment of each review of an app. For each line, think about its sentiment and make some short deductions, then conclude whether it is positive, negative, or neutral. Please keep strictly to the format in the following example:\n",
    "        0. - This user likes how smooth the process of opening of a loan is, so it is Positive\n",
    "        1. - This user has encountered several glitches in using the app, so it is Neutral\n",
    "        2. - This user encountered account security issues and was very frustrated with the customer support's poor response, so it is Negative\n",
    "\"\"\"\n",
    "synthetic_reviews = f\"\"\"\n",
    "0. \"This app has revolutionized the way I manage my finances! It's intuitive, user-friendly, and offers a wide range of features like budget tracking and bill payments. I especially love the quick and secure transaction processing.\"\n",
    "1. \"I've tried several banking apps before, but this one stands out. It's incredibly convenient, with seamless integration across devices. Plus, the customer service is top-notch—I had an issue with a transaction, and they resolved it promptly.\"\n",
    "2. \"Five stars all the way! This app has made banking so much simpler. I can deposit checks, transfer money, and even apply for loans—all from the comfort of my couch. It's like having a bank branch in my pocket!\"\n",
    "3. \"Decent app, but there's room for improvement. It gets the job done for basic transactions, but the interface feels a bit outdated. Also, I've encountered a few glitches while navigating certain features.\"\n",
    "4. \"It's an okay app. I appreciate the convenience it offers, but it could use some enhancements in terms of personalization. Customizable notifications and more detailed spending insights would be nice additions.\"\n",
    "5. \"Works fine most of the time, but it can be slow to load, especially during peak hours. Also, I wish they offered more incentives for using the app regularly, like cashback rewards or discounts at partner stores.\"\n",
    "6. \"Absolutely terrible. I've had nothing but problems with this app—from unauthorized charges to frequent crashes. It's unreliable and frustrating to use. I'm considering switching to a different bank altogether.\"\n",
    "7. \"Stay away from this app if you value your sanity. It's riddled with bugs and glitches that never seem to get fixed. Plus, the customer support is virtually nonexistent—I've been waiting for a response to my complaint for weeks.\"\n",
    "8. \"I can't believe I trusted this app with my money. Not only is it unreliable, but it's also a security risk. I've had my account hacked twice in the past year, and the bank's response was inadequate. Do yourself a favor and find a more trustworthy banking solution.\"\n",
    "\"\"\"\n",
    "history[0][\"content\"] = system_prompt\n",
    "history[1][\"content\"] = synthetic_reviews"
   ]
  },
  {
   "cell_type": "code",
   "execution_count": null,
   "id": "ccf81b9b-b187-4582-89b9-d54d6e309ff0",
   "metadata": {},
   "outputs": [
    {
     "name": "stdout",
     "output_type": "stream",
     "text": [
      "\n",
      "0. Positive - User expresses satisfaction with app's user-friendly interface, wide range of features, and quick transaction processing.\n",
      "1. Neutral - User acknowledges convenience but mentions encountering glitches while using certain features.\n",
      "2. Positive - User praises app for its ease of use, convenient features, and excellent customer service.\n",
      "3. Neutral - User finds the app decent but suggests improvements in terms of interface and additional features.\n",
      "4. Neutral - User acknowledges convenience but requests more customization options for notifications and spending insights.\n",
      "5. Neutral - User finds the app functional but feels it could offer more incentives to encourage usage.\n",
      "6. Negative - User expresses frustration with frequent issues, including unauthorized charges, crashes, and slow loading times.\n",
      "7. Negative - User advises against using the app due to poor customer support and a lack of response to their complaint.\n",
      "8. Negative - User shares negative experiences with account security issues and inadequate responses from the bank's customer support.\n"
     ]
    }
   ],
   "source": [
    "while True:\n",
    "    completion = client.chat.completions.create(\n",
    "        model=\"local-model\", # this field is currently unused\n",
    "        messages=history,\n",
    "        temperature=0.7,\n",
    "        stream=True,\n",
    "    )\n",
    "\n",
    "    new_message = {\"role\": \"assistant\", \"content\": \"\"}\n",
    "    \n",
    "    for chunk in completion:\n",
    "        if chunk.choices[0].delta.content:\n",
    "            print(chunk.choices[0].delta.content, end=\"\", flush=True)\n",
    "            new_message[\"content\"] += chunk.choices[0].delta.content\n",
    "\n",
    "    history.append(new_message)\n",
    "    \n",
    "    # Uncomment to see chat history\n",
    "    # import json\n",
    "    # gray_color = \"\\033[90m\"\n",
    "    # reset_color = \"\\033[0m\"\n",
    "    # print(f\"{gray_color}\\n{'-'*20} History dump {'-'*20}\\n\")\n",
    "    # print(json.dumps(history, indent=2))\n",
    "    # print(f\"\\n{'-'*55}\\n{reset_color}\")\n",
    "\n",
    "    print()\n",
    "    history.append({\"role\": \"user\", \"content\": input(\"> \")})"
   ]
  },
  {
   "cell_type": "code",
   "execution_count": null,
   "id": "fbe6c925-a919-45d6-a174-8ad600acf64d",
   "metadata": {},
   "outputs": [],
   "source": []
  }
 ],
 "metadata": {
  "kernelspec": {
   "display_name": "Python 3 (ipykernel)",
   "language": "python",
   "name": "python3"
  },
  "language_info": {
   "codemirror_mode": {
    "name": "ipython",
    "version": 3
   },
   "file_extension": ".py",
   "mimetype": "text/x-python",
   "name": "python",
   "nbconvert_exporter": "python",
   "pygments_lexer": "ipython3",
   "version": "3.12.2"
  }
 },
 "nbformat": 4,
 "nbformat_minor": 5
}
